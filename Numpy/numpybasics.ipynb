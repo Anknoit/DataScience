{
 "metadata": {
  "language_info": {
   "codemirror_mode": {
    "name": "ipython",
    "version": 3
   },
   "file_extension": ".py",
   "mimetype": "text/x-python",
   "name": "python",
   "nbconvert_exporter": "python",
   "pygments_lexer": "ipython3",
   "version": "3.9.1-final"
  },
  "orig_nbformat": 2,
  "kernelspec": {
   "name": "python3",
   "display_name": "Python 3.9.1 64-bit",
   "metadata": {
    "interpreter": {
     "hash": "c58fcbfd17ff0ae16d8fff524d22de4f4915526417acbd1c77882c470011518a"
    }
   }
  }
 },
 "nbformat": 4,
 "nbformat_minor": 2,
 "cells": [
  {
   "source": [
    "# PYTHON BASICS"
   ],
   "cell_type": "markdown",
   "metadata": {}
  },
  {
   "source": [
    "## Why Use NumPy?\n",
    "In Python we have lists that serve the purpose of arrays, but they are slow to process.\n",
    "\n",
    "NumPy aims to provide an array object that is up to 50x faster than traditional Python lists.\n",
    "\n",
    "The array object in NumPy is called ndarray, it provides a lot of supporting functions that make working with ndarray very easy.\n",
    "\n",
    "Arrays are very frequently used in data science, where speed and resources are very important."
   ],
   "cell_type": "markdown",
   "metadata": {}
  },
  {
   "source": [
    "## Why is NumPy Faster Than Lists?\n",
    "\n",
    "NumPy arrays are stored at one continuous place in memory unlike lists, so processes can access and manipulate them very efficiently.\n",
    "\n",
    "This behavior is called locality of reference in computer science.\n",
    "\n",
    "This is the main reason why NumPy is faster than lists. Also it is optimized to work with latest CPU architectures.\n",
    "\n"
   ],
   "cell_type": "markdown",
   "metadata": {}
  },
  {
   "cell_type": "code",
   "execution_count": 3,
   "metadata": {},
   "outputs": [],
   "source": [
    "import numpy as np"
   ]
  },
  {
   "cell_type": "code",
   "execution_count": 5,
   "metadata": {},
   "outputs": [
    {
     "output_type": "stream",
     "name": "stdout",
     "text": [
      "[1 2 3 4]\n"
     ]
    }
   ],
   "source": [
    "arr = np.array([1,2,3,4])\n",
    "print(arr)"
   ]
  },
  {
   "source": [
    "### ARRAY DIMENSIONS"
   ],
   "cell_type": "markdown",
   "metadata": {}
  },
  {
   "cell_type": "code",
   "execution_count": 9,
   "metadata": {},
   "outputs": [
    {
     "output_type": "stream",
     "name": "stdout",
     "text": [
      "[40]\n1\n[1 2 3 4]\n1\n[[1 2 3 4]\n [5 6 7 8]]\n2\n[[[1 2 3 4]\n  [1 2 9 4]]\n\n [[5 6 7 8]\n  [5 6 7 8]]]\n3\n[[[[[1 2 3 4]]]]]\n5\n"
     ]
    }
   ],
   "source": [
    "#0D\n",
    "a= np.array([40])\n",
    "print(a)\n",
    "print(a.ndim)   #Checking number of dimensions\n",
    "#1D\n",
    "b=np.array([1,2,3,4,5,6,7,8,9])\n",
    "print(b)\n",
    "print(b.ndim)\n",
    "#2D\n",
    "c=np.array([[1,2,3,4], [5,6,7,8]])\n",
    "print(c)\n",
    "print(c.ndim)\n",
    "#3D\n",
    "d=np.array([[[1,2,3,4],[1,2,9,4]],[[5,6,7,8],[5,6,7,8]]])\n",
    "print(d)\n",
    "print(d.ndim)\n",
    "#nD\n",
    "e=np.array([1,2,3,4], ndmin=5)\n",
    "print(e)\n",
    "print(e.ndim)"
   ]
  },
  {
   "source": [
    "#### Array indexing"
   ],
   "cell_type": "markdown",
   "metadata": {}
  },
  {
   "cell_type": "code",
   "execution_count": 10,
   "metadata": {},
   "outputs": [
    {
     "output_type": "stream",
     "name": "stdout",
     "text": [
      "2\n7\n9\n"
     ]
    }
   ],
   "source": [
    "print(b[1])\n",
    "print(c[1,2])\n",
    "print(d[0,1,2])"
   ]
  },
  {
   "source": [
    "#### Array slicing\n",
    "Slicing in python means taking elements from one given index to another given index.\n",
    "\n",
    "We pass slice instead of index like this: [start : end] \n",
    "\n",
    "We can also define the step, like this: [start:end:step]\n",
    "\n",
    "If we don't pass start its considered 0\n",
    "\n",
    "If we don't pass end its considered length of array in that dimension\n",
    "\n",
    "If we don't pass step its considered 1"
   ],
   "cell_type": "markdown",
   "metadata": {}
  },
  {
   "cell_type": "code",
   "execution_count": 27,
   "metadata": {},
   "outputs": [
    {
     "output_type": "stream",
     "name": "stdout",
     "text": [
      "[1 2 3]\n[1 2]\n[5 6]\n[[[1 2 9 4]]\n\n [[5 6 7 8]]]\n[1 3]\n"
     ]
    }
   ],
   "source": [
    "print(b[0:3])   #including 0 but excluding 3....array position count starts from 0\n",
    "print(b[-0:-2]) #slice away elements from RIGHT....1st element to to 2nd(excluding)\n",
    "print(c[1,0:2]) #from 2nd dimension slice elements from 0 to 2(excluding 2 but you know it you ASSHOLE!)\n",
    "print(d[0:2,1:4]) #from both index(0:2) slice elements from 1to4(1:4) OFCOURSE EXLDUING 4 you imbiscile!"
   ]
  },
  {
   "cell_type": "code",
   "execution_count": 28,
   "metadata": {},
   "outputs": [
    {
     "output_type": "stream",
     "name": "stdout",
     "text": [
      "Object `???????print(b[0:8:2]) #STEP is the 3rd argument which skips elements (n-1) here n is 2 => (2-1) = 1 => 1 element skipping` not found.\n"
     ]
    }
   ],
   "source": [
    "?????????print(b[0:8:2]) #STEP is the 3rd argument which skips elements (n-1) here n is 2 => (2-1) = 1 => 1 element skipping"
   ]
  }
 ]
}