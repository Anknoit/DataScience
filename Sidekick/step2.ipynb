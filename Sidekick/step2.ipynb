{
 "cells": [
  {
   "cell_type": "code",
   "execution_count": 42,
   "metadata": {},
   "outputs": [],
   "source": [
    "import numpy as np\n",
    "import pandas as pd\n",
    "from pandas import DataFrame"
   ]
  },
  {
   "cell_type": "code",
   "execution_count": 43,
   "metadata": {},
   "outputs": [
    {
     "name": "stdin",
     "output_type": "stream",
     "text": [
      "Enter File Name: Service 3\n"
     ]
    }
   ],
   "source": [
    "file_input = input(str(\"Enter File Name:\"))\n",
    "if not '.csv' in file_input:\n",
    "    file_input += '.csv'"
   ]
  },
  {
   "cell_type": "code",
   "execution_count": 44,
   "metadata": {},
   "outputs": [
    {
     "name": "stdout",
     "output_type": "stream",
     "text": [
      "        ID       SERVICE_type  Unique ID check Service Name  NET_AMOUNT  \\\n",
      "0        1  Test Service - 31              NaN   Location 8           0   \n",
      "1        2  Test Service - 31              NaN   Location 8           0   \n",
      "2        3  Test Service - 31              NaN   Location 9         800   \n",
      "3        4  Test Service - 31              NaN   Location 8         800   \n",
      "4        5  Test Service - 31              NaN   Location 9         720   \n",
      "...    ...                ...              ...          ...         ...   \n",
      "1164  3472  Test Service - 37              NaN   Location 7        1350   \n",
      "1165  3473  Test Service - 32              NaN  Location 13         800   \n",
      "1166  3474  Test Service - 31              NaN   Location 9         720   \n",
      "1167  3475  Test Service - 34              NaN   Location 6        1080   \n",
      "1168   344  Test Service - 31              NaN   Location 9         720   \n",
      "\n",
      "     INVOICESTATUS       BILLED_DATE         COLLECTED      APPROVEDDATE  \n",
      "0          Settled  01-07-2020 10:06  01-07-2020 10:06  01-07-2020 10:06  \n",
      "1          Settled  01-07-2020 10:45  01-07-2020 10:45  01-07-2020 10:45  \n",
      "2          Settled  01-07-2020 10:54  01-07-2020 10:54  01-07-2020 10:54  \n",
      "3          Settled  01-07-2020 10:59  01-07-2020 10:59  01-07-2020 10:59  \n",
      "4          Settled  01-07-2020 11:10  01-07-2020 11:10  01-07-2020 11:10  \n",
      "...            ...               ...               ...               ...  \n",
      "1164       Settled  09-07-2020 18:04  09-07-2020 18:04  09-07-2020 18:04  \n",
      "1165       Settled  09-07-2020 18:09  09-07-2020 18:09  09-07-2020 18:09  \n",
      "1166       Settled  09-07-2020 18:15  09-07-2020 18:15  09-07-2020 18:15  \n",
      "1167       Settled  09-07-2020 18:16  09-07-2020 18:16  09-07-2020 18:16  \n",
      "1168       Settled  09-07-2020 18:39  09-07-2020 18:39  09-07-2020 18:39  \n",
      "\n",
      "[1169 rows x 9 columns]\n"
     ]
    }
   ],
   "source": [
    "#Importing data from columns of input csv file and shifting it in data_shift masterview file but it replace all data before in the file\n",
    "'''\n",
    "data = pd.read_csv(file_input)\n",
    "data = data[[\"ID\", \"SERVICE_type\", \"Unique ID check\", \"Service Name\", \"NET_AMOUNT\", \"INVOICESTATUS\", \"BILLED_DATE\", \"COLLECTED\", \"APPROVEDDATE\"]]\n",
    "data_shift = data[[\"ID\", \"SERVICE_type\", \"Unique ID check\", \"Service Name\", \"NET_AMOUNT\", \"INVOICESTATUS\", \"BILLED_DATE\", \"COLLECTED\", \"APPROVEDDATE\"]]\n",
    "'''\n",
    "\n",
    "data = pd.read_csv(file_input)\n",
    "data = data[[\"ID\", \"SERVICE_type\", \"Unique ID check\", \"Service Name\", \"NET_AMOUNT\", \"INVOICESTATUS\", \"BILLED_DATE\", \"COLLECTED\", \"APPROVEDDATE\"]]\n",
    "df = pd.DataFrame(data)\n",
    "selected_columns = df[[\"ID\", \"SERVICE_type\", \"Unique ID check\", \"Service Name\", \"NET_AMOUNT\", \"INVOICESTATUS\", \"BILLED_DATE\", \"COLLECTED\", \"APPROVEDDATE\"]]\n",
    "\n",
    "data_shift = selected_columns.copy()\n",
    "print(data_shift)"
   ]
  },
  {
   "cell_type": "code",
   "execution_count": 45,
   "metadata": {},
   "outputs": [],
   "source": [
    "data_shift.to_csv(\"Masterview.csv\")"
   ]
  }
 ],
 "metadata": {
  "kernelspec": {
   "display_name": "Python 3",
   "language": "python",
   "name": "python3"
  },
  "language_info": {
   "codemirror_mode": {
    "name": "ipython",
    "version": 3
   },
   "file_extension": ".py",
   "mimetype": "text/x-python",
   "name": "python",
   "nbconvert_exporter": "python",
   "pygments_lexer": "ipython3",
   "version": "3.9.0"
  }
 },
 "nbformat": 4,
 "nbformat_minor": 4
}
